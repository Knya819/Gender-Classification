{
 "cells": [
  {
   "cell_type": "markdown",
   "id": "2353e13d-dccf-4778-9d28-e99155cb92eb",
   "metadata": {},
   "source": [
    "### Libraries"
   ]
  },
  {
   "cell_type": "code",
   "execution_count": null,
   "id": "18f74c27-1baa-4d77-ad04-5567bf13f1de",
   "metadata": {},
   "outputs": [],
   "source": [
    "import pandas as pd\n",
    "from sklearn.model_selection import train_test_split\n",
    "from sklearn.tree import DecisionTreeClassifier\n",
    "from sklearn.metrics import accuracy_score, recall_score, precision_score, confusion_matrix, cohen_kappa_score"
   ]
  },
  {
   "cell_type": "markdown",
   "id": "a57b76d9-e6eb-45eb-a92d-7643be96323a",
   "metadata": {},
   "source": [
    "### Load the dataset"
   ]
  },
  {
   "cell_type": "code",
   "execution_count": null,
   "id": "22968712-b917-4adb-b42b-594b382b4b67",
   "metadata": {},
   "outputs": [],
   "source": [
    "Gender = pd.read_csv(\"Gender.csv\")"
   ]
  },
  {
   "cell_type": "code",
   "execution_count": null,
   "id": "294dff44-39a4-4a61-aa9b-38aaabad7119",
   "metadata": {},
   "outputs": [
    {
     "data": {
      "text/plain": [
       "user_gender\n",
       "F          289871\n",
       "M          373480\n",
       "Unknown     80981\n",
       "Name: user_gender, dtype: int64"
      ]
     },
     "execution_count": 49,
     "metadata": {},
     "output_type": "execute_result"
    }
   ],
   "source": [
    "Gender.groupby('user_gender')['user_gender'].count()"
   ]
  },
  {
   "cell_type": "markdown",
   "id": "ad1debec-76df-420e-ac22-ac03f0f55a6b",
   "metadata": {},
   "source": [
    "### Prepare the data for machine learning by eliminating instances with 'Unknown' gender values, and then separating the features (X) from the target variable (y)."
   ]
  },
  {
   "cell_type": "code",
   "execution_count": null,
   "id": "f6cbde72-4678-4951-9055-8fe4794f0469",
   "metadata": {},
   "outputs": [],
   "source": [
    "# Exclude instances with \"Unknown\" gender values\n",
    "data = Gender[Gender['user_gender'] != 'Unknown']\n",
    "# Split the dataset into features (X) and target (y)\n",
    "X = data.drop('user_gender', axis=1)\n",
    "y = data['user_gender']"
   ]
  },
  {
   "cell_type": "markdown",
   "id": "f391e8b8-49f4-4917-8542-64c24ddbd715",
   "metadata": {},
   "source": [
    "### Split the data into training and testing sets, initialize and train the decision tree classifier, and then predict the gender for the test set."
   ]
  },
  {
   "cell_type": "code",
   "execution_count": null,
   "id": "bea9f4b2-b1fd-4965-b13c-718f17c92f5b",
   "metadata": {},
   "outputs": [],
   "source": [
    "\n",
    "# Split the data into training and testing sets\n",
    "X_train, X_test, y_train, y_test = train_test_split(X, y, test_size=0.2, random_state=42)\n",
    "\n",
    "# Initialize and train the decision tree classifier\n",
    "decision_tree = DecisionTreeClassifier(random_state=42)\n",
    "decision_tree.fit(X_train, y_train)\n",
    "\n",
    "# Predict the gender for the test set\n",
    "y_pred = decision_tree.predict(X_test)"
   ]
  },
  {
   "cell_type": "markdown",
   "id": "fa5f4137-9b0b-4a91-a940-283a9c637381",
   "metadata": {},
   "source": [
    "### Evaluate the Model Performance: Accuracy, Recall, Precision, and Confusion Matrix"
   ]
  },
  {
   "cell_type": "code",
   "execution_count": null,
   "id": "d53e4f8a-dcaf-4e36-a12e-31468abcbe16",
   "metadata": {},
   "outputs": [
    {
     "name": "stdout",
     "output_type": "stream",
     "text": [
      "Accuracy: 0.9635715416330622\n",
      "Recall: 0.9635715416330622\n",
      "Precision: 0.9635742902877916\n",
      "Confusion Matrix:\n",
      " [[55576  2398]\n",
      " [ 2435 72262]]\n"
     ]
    }
   ],
   "source": [
    "# Calculate the accuracy of the model\n",
    "accuracy = accuracy_score(y_test, y_pred)\n",
    "# Calculate recall, precision, and confusion matrix\n",
    "recall = recall_score(y_test, y_pred, average='weighted')\n",
    "precision = precision_score(y_test, y_pred, average='weighted')\n",
    "conf_matrix = confusion_matrix(y_test, y_pred)\n",
    "\n",
    "print(\"Accuracy:\", accuracy)\n",
    "# Print recall, precision, confusion matrix, and kappa score\n",
    "print(\"Recall:\", recall)\n",
    "print(\"Precision:\", precision)\n",
    "print(\"Confusion Matrix:\\n\", conf_matrix)\n"
   ]
  },
  {
   "cell_type": "markdown",
   "id": "e93365e7-f03b-4c47-be14-d69a4546e134",
   "metadata": {},
   "source": [
    "### Impute \"Unknown\" Gender Values with Predicted Gender Using Decision Tree Model"
   ]
  },
  {
   "cell_type": "code",
   "execution_count": null,
   "id": "31e4fd23-b6da-402a-b6cc-6ffb29026d2c",
   "metadata": {},
   "outputs": [
    {
     "data": {
      "text/html": [
       "<div>\n",
       "<style scoped>\n",
       "    .dataframe tbody tr th:only-of-type {\n",
       "        vertical-align: middle;\n",
       "    }\n",
       "\n",
       "    .dataframe tbody tr th {\n",
       "        vertical-align: top;\n",
       "    }\n",
       "\n",
       "    .dataframe thead th {\n",
       "        text-align: right;\n",
       "    }\n",
       "</style>\n",
       "<table border=\"1\" class=\"dataframe\">\n",
       "  <thead>\n",
       "    <tr style=\"text-align: right;\">\n",
       "      <th></th>\n",
       "      <th>user_crm_id</th>\n",
       "      <th>user_gender</th>\n",
       "      <th>return_status</th>\n",
       "      <th>item_main_category</th>\n",
       "      <th>item_brand</th>\n",
       "      <th>item_sub_category_code</th>\n",
       "      <th>item_gender_code</th>\n",
       "      <th>has_coupon</th>\n",
       "      <th>opt_in_status</th>\n",
       "      <th>prism_plus_status_code</th>\n",
       "      <th>prism_plus_tier</th>\n",
       "    </tr>\n",
       "  </thead>\n",
       "  <tbody>\n",
       "    <tr>\n",
       "      <th>0</th>\n",
       "      <td>7535440</td>\n",
       "      <td>F</td>\n",
       "      <td>0</td>\n",
       "      <td>4</td>\n",
       "      <td>17</td>\n",
       "      <td>7</td>\n",
       "      <td>2</td>\n",
       "      <td>0</td>\n",
       "      <td>0</td>\n",
       "      <td>0</td>\n",
       "      <td>0</td>\n",
       "    </tr>\n",
       "    <tr>\n",
       "      <th>1</th>\n",
       "      <td>7535440</td>\n",
       "      <td>F</td>\n",
       "      <td>0</td>\n",
       "      <td>2</td>\n",
       "      <td>17</td>\n",
       "      <td>8</td>\n",
       "      <td>2</td>\n",
       "      <td>0</td>\n",
       "      <td>0</td>\n",
       "      <td>0</td>\n",
       "      <td>0</td>\n",
       "    </tr>\n",
       "    <tr>\n",
       "      <th>2</th>\n",
       "      <td>7537040</td>\n",
       "      <td>F</td>\n",
       "      <td>0</td>\n",
       "      <td>4</td>\n",
       "      <td>86</td>\n",
       "      <td>7</td>\n",
       "      <td>2</td>\n",
       "      <td>0</td>\n",
       "      <td>0</td>\n",
       "      <td>0</td>\n",
       "      <td>0</td>\n",
       "    </tr>\n",
       "    <tr>\n",
       "      <th>3</th>\n",
       "      <td>7535945</td>\n",
       "      <td>F</td>\n",
       "      <td>0</td>\n",
       "      <td>4</td>\n",
       "      <td>17</td>\n",
       "      <td>7</td>\n",
       "      <td>2</td>\n",
       "      <td>0</td>\n",
       "      <td>0</td>\n",
       "      <td>0</td>\n",
       "      <td>0</td>\n",
       "    </tr>\n",
       "    <tr>\n",
       "      <th>4</th>\n",
       "      <td>7535945</td>\n",
       "      <td>F</td>\n",
       "      <td>0</td>\n",
       "      <td>4</td>\n",
       "      <td>17</td>\n",
       "      <td>7</td>\n",
       "      <td>2</td>\n",
       "      <td>0</td>\n",
       "      <td>0</td>\n",
       "      <td>0</td>\n",
       "      <td>0</td>\n",
       "    </tr>\n",
       "    <tr>\n",
       "      <th>...</th>\n",
       "      <td>...</td>\n",
       "      <td>...</td>\n",
       "      <td>...</td>\n",
       "      <td>...</td>\n",
       "      <td>...</td>\n",
       "      <td>...</td>\n",
       "      <td>...</td>\n",
       "      <td>...</td>\n",
       "      <td>...</td>\n",
       "      <td>...</td>\n",
       "      <td>...</td>\n",
       "    </tr>\n",
       "    <tr>\n",
       "      <th>744327</th>\n",
       "      <td>5490168</td>\n",
       "      <td>M</td>\n",
       "      <td>1</td>\n",
       "      <td>8</td>\n",
       "      <td>78</td>\n",
       "      <td>23</td>\n",
       "      <td>1</td>\n",
       "      <td>0</td>\n",
       "      <td>0</td>\n",
       "      <td>0</td>\n",
       "      <td>0</td>\n",
       "    </tr>\n",
       "    <tr>\n",
       "      <th>744328</th>\n",
       "      <td>4988352</td>\n",
       "      <td>F</td>\n",
       "      <td>1</td>\n",
       "      <td>4</td>\n",
       "      <td>6</td>\n",
       "      <td>7</td>\n",
       "      <td>2</td>\n",
       "      <td>0</td>\n",
       "      <td>0</td>\n",
       "      <td>0</td>\n",
       "      <td>0</td>\n",
       "    </tr>\n",
       "    <tr>\n",
       "      <th>744329</th>\n",
       "      <td>4988352</td>\n",
       "      <td>F</td>\n",
       "      <td>1</td>\n",
       "      <td>4</td>\n",
       "      <td>6</td>\n",
       "      <td>7</td>\n",
       "      <td>2</td>\n",
       "      <td>0</td>\n",
       "      <td>0</td>\n",
       "      <td>0</td>\n",
       "      <td>0</td>\n",
       "    </tr>\n",
       "    <tr>\n",
       "      <th>744330</th>\n",
       "      <td>5487045</td>\n",
       "      <td>F</td>\n",
       "      <td>0</td>\n",
       "      <td>8</td>\n",
       "      <td>6</td>\n",
       "      <td>23</td>\n",
       "      <td>3</td>\n",
       "      <td>0</td>\n",
       "      <td>0</td>\n",
       "      <td>0</td>\n",
       "      <td>0</td>\n",
       "    </tr>\n",
       "    <tr>\n",
       "      <th>744331</th>\n",
       "      <td>5487045</td>\n",
       "      <td>F</td>\n",
       "      <td>0</td>\n",
       "      <td>8</td>\n",
       "      <td>6</td>\n",
       "      <td>23</td>\n",
       "      <td>3</td>\n",
       "      <td>0</td>\n",
       "      <td>0</td>\n",
       "      <td>0</td>\n",
       "      <td>0</td>\n",
       "    </tr>\n",
       "  </tbody>\n",
       "</table>\n",
       "<p>744332 rows × 11 columns</p>\n",
       "</div>"
      ],
      "text/plain": [
       "        user_crm_id user_gender  return_status  item_main_category  \\\n",
       "0           7535440           F              0                   4   \n",
       "1           7535440           F              0                   2   \n",
       "2           7537040           F              0                   4   \n",
       "3           7535945           F              0                   4   \n",
       "4           7535945           F              0                   4   \n",
       "...             ...         ...            ...                 ...   \n",
       "744327      5490168           M              1                   8   \n",
       "744328      4988352           F              1                   4   \n",
       "744329      4988352           F              1                   4   \n",
       "744330      5487045           F              0                   8   \n",
       "744331      5487045           F              0                   8   \n",
       "\n",
       "        item_brand  item_sub_category_code  item_gender_code  has_coupon  \\\n",
       "0               17                       7                 2           0   \n",
       "1               17                       8                 2           0   \n",
       "2               86                       7                 2           0   \n",
       "3               17                       7                 2           0   \n",
       "4               17                       7                 2           0   \n",
       "...            ...                     ...               ...         ...   \n",
       "744327          78                      23                 1           0   \n",
       "744328           6                       7                 2           0   \n",
       "744329           6                       7                 2           0   \n",
       "744330           6                      23                 3           0   \n",
       "744331           6                      23                 3           0   \n",
       "\n",
       "        opt_in_status  prism_plus_status_code  prism_plus_tier  \n",
       "0                   0                       0                0  \n",
       "1                   0                       0                0  \n",
       "2                   0                       0                0  \n",
       "3                   0                       0                0  \n",
       "4                   0                       0                0  \n",
       "...               ...                     ...              ...  \n",
       "744327              0                       0                0  \n",
       "744328              0                       0                0  \n",
       "744329              0                       0                0  \n",
       "744330              0                       0                0  \n",
       "744331              0                       0                0  \n",
       "\n",
       "[744332 rows x 11 columns]"
      ]
     },
     "execution_count": 54,
     "metadata": {},
     "output_type": "execute_result"
    }
   ],
   "source": [
    "\n",
    "# Filter out instances with \"Unknown\" gender values\n",
    "unknown_indices = Gender[Gender['user_gender'] == 'Unknown'].index\n",
    "unknown_data = Gender.loc[unknown_indices]\n",
    "\n",
    "# Remove the \"Unknown\" instances for prediction\n",
    "X_unknown = unknown_data.drop('user_gender', axis=1)\n",
    "\n",
    "# Predict the gender for the instances with \"Unknown\" gender values\n",
    "predicted_gender = decision_tree.predict(X_unknown) #predic. prob.\n",
    "\n",
    "# Replace the \"Unknown\" values with the predicted values\n",
    "Gender.loc[unknown_indices, 'user_gender'] = predicted_gender\n",
    "\n",
    "Gender\n"
   ]
  },
  {
   "cell_type": "code",
   "execution_count": null,
   "id": "875fa8fe-7d6f-4852-bba8-05b868830bd5",
   "metadata": {},
   "outputs": [
    {
     "data": {
      "text/plain": [
       "user_gender\n",
       "F    329807\n",
       "M    414525\n",
       "Name: user_gender, dtype: int64"
      ]
     },
     "execution_count": 56,
     "metadata": {},
     "output_type": "execute_result"
    }
   ],
   "source": [
    "Gender.groupby('user_gender')['user_gender'].count()"
   ]
  },
  {
   "cell_type": "markdown",
   "id": "2b0adf58-c2f0-4a59-aee4-67678d333982",
   "metadata": {},
   "source": [
    "### Save only the user_crm_id and user_gender columns to a CSV file"
   ]
  },
  {
   "cell_type": "code",
   "execution_count": null,
   "id": "3bb1a0b4-e339-4648-be22-b45172059052",
   "metadata": {},
   "outputs": [],
   "source": [
    "data_unknown[['user_crm_id', 'user_gender']].to_csv(\"Gender_user_crm_id_predicted.csv\", index=False)\n"
   ]
  }
 ],
 "metadata": {
  "kernelspec": {
   "display_name": "Python 3 (ipykernel)",
   "language": "python",
   "name": "python3"
  },
  "language_info": {
   "codemirror_mode": {
    "name": "ipython",
    "version": 3
   },
   "file_extension": ".py",
   "mimetype": "text/x-python",
   "name": "python",
   "nbconvert_exporter": "python",
   "pygments_lexer": "ipython3",
   "version": "3.11.4"
  }
 },
 "nbformat": 4,
 "nbformat_minor": 5
}
